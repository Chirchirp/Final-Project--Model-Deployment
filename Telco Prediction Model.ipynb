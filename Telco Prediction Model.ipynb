{
 "cells": [
  {
   "cell_type": "code",
   "execution_count": 1,
   "id": "0a2dfdbd",
   "metadata": {},
   "outputs": [],
   "source": [
    "# Import Libraries\n",
    "import pandas as pd\n",
    "import numpy as np\n",
    "import matplotlib.pyplot as plt\n",
    "import warnings\n",
    "warnings.filterwarnings('ignore')"
   ]
  },
  {
   "cell_type": "code",
   "execution_count": 2,
   "id": "8a03b0cc",
   "metadata": {},
   "outputs": [
    {
     "data": {
      "text/html": [
       "<div>\n",
       "<style scoped>\n",
       "    .dataframe tbody tr th:only-of-type {\n",
       "        vertical-align: middle;\n",
       "    }\n",
       "\n",
       "    .dataframe tbody tr th {\n",
       "        vertical-align: top;\n",
       "    }\n",
       "\n",
       "    .dataframe thead th {\n",
       "        text-align: right;\n",
       "    }\n",
       "</style>\n",
       "<table border=\"1\" class=\"dataframe\">\n",
       "  <thead>\n",
       "    <tr style=\"text-align: right;\">\n",
       "      <th></th>\n",
       "      <th>Referred a Friend</th>\n",
       "      <th>Number of Referrals</th>\n",
       "      <th>Tenure in Months</th>\n",
       "      <th>Offer</th>\n",
       "      <th>Phone Service</th>\n",
       "      <th>Avg Monthly Long Distance Charges</th>\n",
       "      <th>Multiple Lines</th>\n",
       "      <th>Internet Service</th>\n",
       "      <th>Internet Type</th>\n",
       "      <th>Avg Monthly GB Download</th>\n",
       "      <th>...</th>\n",
       "      <th>Total Revenue</th>\n",
       "      <th>Gender</th>\n",
       "      <th>Age</th>\n",
       "      <th>Under 30</th>\n",
       "      <th>Senior Citizen</th>\n",
       "      <th>Married</th>\n",
       "      <th>Churn Label</th>\n",
       "      <th>Churn Score</th>\n",
       "      <th>ContractPeriod</th>\n",
       "      <th>ContractTenureRatio</th>\n",
       "    </tr>\n",
       "  </thead>\n",
       "  <tbody>\n",
       "    <tr>\n",
       "      <th>0</th>\n",
       "      <td>-0.918278</td>\n",
       "      <td>-0.650409</td>\n",
       "      <td>-1.278988</td>\n",
       "      <td>-0.445478</td>\n",
       "      <td>-3.054010</td>\n",
       "      <td>-1.485900</td>\n",
       "      <td>-0.854176</td>\n",
       "      <td>0.525927</td>\n",
       "      <td>-0.760820</td>\n",
       "      <td>-0.612975</td>\n",
       "      <td>...</td>\n",
       "      <td>-1.038179</td>\n",
       "      <td>0.990532</td>\n",
       "      <td>1.880110</td>\n",
       "      <td>-0.498313</td>\n",
       "      <td>2.273159</td>\n",
       "      <td>-0.966622</td>\n",
       "      <td>1.663829</td>\n",
       "      <td>1.535060</td>\n",
       "      <td>-0.881056</td>\n",
       "      <td>-0.642239</td>\n",
       "    </tr>\n",
       "    <tr>\n",
       "      <th>1</th>\n",
       "      <td>1.088995</td>\n",
       "      <td>-0.317185</td>\n",
       "      <td>-0.993743</td>\n",
       "      <td>2.233093</td>\n",
       "      <td>0.327438</td>\n",
       "      <td>1.685430</td>\n",
       "      <td>1.170719</td>\n",
       "      <td>0.525927</td>\n",
       "      <td>0.675378</td>\n",
       "      <td>-0.172176</td>\n",
       "      <td>...</td>\n",
       "      <td>-0.701705</td>\n",
       "      <td>-1.009559</td>\n",
       "      <td>1.641292</td>\n",
       "      <td>-0.498313</td>\n",
       "      <td>2.273159</td>\n",
       "      <td>1.034530</td>\n",
       "      <td>1.663829</td>\n",
       "      <td>0.495781</td>\n",
       "      <td>-0.881056</td>\n",
       "      <td>-0.156647</td>\n",
       "    </tr>\n",
       "    <tr>\n",
       "      <th>2</th>\n",
       "      <td>-0.918278</td>\n",
       "      <td>-0.650409</td>\n",
       "      <td>-0.586250</td>\n",
       "      <td>1.340236</td>\n",
       "      <td>0.327438</td>\n",
       "      <td>-0.773969</td>\n",
       "      <td>1.170719</td>\n",
       "      <td>0.525927</td>\n",
       "      <td>0.675378</td>\n",
       "      <td>1.542040</td>\n",
       "      <td>...</td>\n",
       "      <td>-0.392106</td>\n",
       "      <td>0.990532</td>\n",
       "      <td>1.462179</td>\n",
       "      <td>-0.498313</td>\n",
       "      <td>2.273159</td>\n",
       "      <td>-0.966622</td>\n",
       "      <td>1.663829</td>\n",
       "      <td>1.062661</td>\n",
       "      <td>-0.881056</td>\n",
       "      <td>0.537056</td>\n",
       "    </tr>\n",
       "    <tr>\n",
       "      <th>3</th>\n",
       "      <td>1.088995</td>\n",
       "      <td>-0.317185</td>\n",
       "      <td>-0.301005</td>\n",
       "      <td>0.447379</td>\n",
       "      <td>0.327438</td>\n",
       "      <td>-0.191480</td>\n",
       "      <td>-0.854176</td>\n",
       "      <td>0.525927</td>\n",
       "      <td>0.675378</td>\n",
       "      <td>-0.417064</td>\n",
       "      <td>...</td>\n",
       "      <td>-0.013746</td>\n",
       "      <td>-1.009559</td>\n",
       "      <td>1.880110</td>\n",
       "      <td>-0.498313</td>\n",
       "      <td>2.273159</td>\n",
       "      <td>1.034530</td>\n",
       "      <td>1.663829</td>\n",
       "      <td>1.393340</td>\n",
       "      <td>-0.881056</td>\n",
       "      <td>1.022648</td>\n",
       "    </tr>\n",
       "    <tr>\n",
       "      <th>4</th>\n",
       "      <td>1.088995</td>\n",
       "      <td>-0.317185</td>\n",
       "      <td>0.187986</td>\n",
       "      <td>0.447379</td>\n",
       "      <td>0.327438</td>\n",
       "      <td>-1.097574</td>\n",
       "      <td>1.170719</td>\n",
       "      <td>0.525927</td>\n",
       "      <td>0.675378</td>\n",
       "      <td>-0.319109</td>\n",
       "      <td>...</td>\n",
       "      <td>0.023601</td>\n",
       "      <td>-1.009559</td>\n",
       "      <td>1.999519</td>\n",
       "      <td>-0.498313</td>\n",
       "      <td>2.273159</td>\n",
       "      <td>1.034530</td>\n",
       "      <td>1.663829</td>\n",
       "      <td>0.401301</td>\n",
       "      <td>-0.881056</td>\n",
       "      <td>1.855092</td>\n",
       "    </tr>\n",
       "  </tbody>\n",
       "</table>\n",
       "<p>5 rows × 27 columns</p>\n",
       "</div>"
      ],
      "text/plain": [
       "   Referred a Friend  Number of Referrals  Tenure in Months     Offer  \\\n",
       "0          -0.918278            -0.650409         -1.278988 -0.445478   \n",
       "1           1.088995            -0.317185         -0.993743  2.233093   \n",
       "2          -0.918278            -0.650409         -0.586250  1.340236   \n",
       "3           1.088995            -0.317185         -0.301005  0.447379   \n",
       "4           1.088995            -0.317185          0.187986  0.447379   \n",
       "\n",
       "   Phone Service  Avg Monthly Long Distance Charges  Multiple Lines  \\\n",
       "0      -3.054010                          -1.485900       -0.854176   \n",
       "1       0.327438                           1.685430        1.170719   \n",
       "2       0.327438                          -0.773969        1.170719   \n",
       "3       0.327438                          -0.191480       -0.854176   \n",
       "4       0.327438                          -1.097574        1.170719   \n",
       "\n",
       "   Internet Service  Internet Type  Avg Monthly GB Download  ...  \\\n",
       "0          0.525927      -0.760820                -0.612975  ...   \n",
       "1          0.525927       0.675378                -0.172176  ...   \n",
       "2          0.525927       0.675378                 1.542040  ...   \n",
       "3          0.525927       0.675378                -0.417064  ...   \n",
       "4          0.525927       0.675378                -0.319109  ...   \n",
       "\n",
       "   Total Revenue    Gender       Age  Under 30  Senior Citizen   Married  \\\n",
       "0      -1.038179  0.990532  1.880110 -0.498313        2.273159 -0.966622   \n",
       "1      -0.701705 -1.009559  1.641292 -0.498313        2.273159  1.034530   \n",
       "2      -0.392106  0.990532  1.462179 -0.498313        2.273159 -0.966622   \n",
       "3      -0.013746 -1.009559  1.880110 -0.498313        2.273159  1.034530   \n",
       "4       0.023601 -1.009559  1.999519 -0.498313        2.273159  1.034530   \n",
       "\n",
       "   Churn Label  Churn Score  ContractPeriod  ContractTenureRatio  \n",
       "0     1.663829     1.535060       -0.881056            -0.642239  \n",
       "1     1.663829     0.495781       -0.881056            -0.156647  \n",
       "2     1.663829     1.062661       -0.881056             0.537056  \n",
       "3     1.663829     1.393340       -0.881056             1.022648  \n",
       "4     1.663829     0.401301       -0.881056             1.855092  \n",
       "\n",
       "[5 rows x 27 columns]"
      ]
     },
     "execution_count": 2,
     "metadata": {},
     "output_type": "execute_result"
    }
   ],
   "source": [
    "df= pd.read_csv(r\"A:\\Data Analytics\\Telco\\data\\Normalized_Churn_Dataset.csv\")\n",
    "df.head()"
   ]
  },
  {
   "cell_type": "code",
   "execution_count": 3,
   "id": "1e2aad5d",
   "metadata": {},
   "outputs": [
    {
     "data": {
      "text/html": [
       "<div>\n",
       "<style scoped>\n",
       "    .dataframe tbody tr th:only-of-type {\n",
       "        vertical-align: middle;\n",
       "    }\n",
       "\n",
       "    .dataframe tbody tr th {\n",
       "        vertical-align: top;\n",
       "    }\n",
       "\n",
       "    .dataframe thead th {\n",
       "        text-align: right;\n",
       "    }\n",
       "</style>\n",
       "<table border=\"1\" class=\"dataframe\">\n",
       "  <thead>\n",
       "    <tr style=\"text-align: right;\">\n",
       "      <th></th>\n",
       "      <th>Referred a Friend</th>\n",
       "      <th>Number of Referrals</th>\n",
       "      <th>Tenure in Months</th>\n",
       "      <th>Offer</th>\n",
       "      <th>Phone Service</th>\n",
       "      <th>Avg Monthly Long Distance Charges</th>\n",
       "      <th>Multiple Lines</th>\n",
       "      <th>Internet Service</th>\n",
       "      <th>Internet Type</th>\n",
       "      <th>Avg Monthly GB Download</th>\n",
       "      <th>...</th>\n",
       "      <th>Total Revenue</th>\n",
       "      <th>Gender</th>\n",
       "      <th>Age</th>\n",
       "      <th>Under 30</th>\n",
       "      <th>Senior Citizen</th>\n",
       "      <th>Married</th>\n",
       "      <th>Churn Label</th>\n",
       "      <th>Churn Score</th>\n",
       "      <th>ContractPeriod</th>\n",
       "      <th>ContractTenureRatio</th>\n",
       "    </tr>\n",
       "  </thead>\n",
       "  <tbody>\n",
       "    <tr>\n",
       "      <th>0</th>\n",
       "      <td>0.0</td>\n",
       "      <td>0.000000</td>\n",
       "      <td>0.000000</td>\n",
       "      <td>0.25</td>\n",
       "      <td>0.0</td>\n",
       "      <td>0.00</td>\n",
       "      <td>0.0</td>\n",
       "      <td>1.0</td>\n",
       "      <td>0.5</td>\n",
       "      <td>0.094118</td>\n",
       "      <td>...</td>\n",
       "      <td>0.003261</td>\n",
       "      <td>1.0</td>\n",
       "      <td>0.967213</td>\n",
       "      <td>0.0</td>\n",
       "      <td>1.0</td>\n",
       "      <td>0.0</td>\n",
       "      <td>1.0</td>\n",
       "      <td>0.945055</td>\n",
       "      <td>0.0</td>\n",
       "      <td>0.013889</td>\n",
       "    </tr>\n",
       "    <tr>\n",
       "      <th>1</th>\n",
       "      <td>1.0</td>\n",
       "      <td>0.090909</td>\n",
       "      <td>0.098592</td>\n",
       "      <td>1.00</td>\n",
       "      <td>1.0</td>\n",
       "      <td>0.98</td>\n",
       "      <td>1.0</td>\n",
       "      <td>1.0</td>\n",
       "      <td>1.0</td>\n",
       "      <td>0.200000</td>\n",
       "      <td>...</td>\n",
       "      <td>0.083877</td>\n",
       "      <td>0.0</td>\n",
       "      <td>0.901639</td>\n",
       "      <td>0.0</td>\n",
       "      <td>1.0</td>\n",
       "      <td>1.0</td>\n",
       "      <td>1.0</td>\n",
       "      <td>0.703297</td>\n",
       "      <td>0.0</td>\n",
       "      <td>0.111111</td>\n",
       "    </tr>\n",
       "    <tr>\n",
       "      <th>2</th>\n",
       "      <td>0.0</td>\n",
       "      <td>0.000000</td>\n",
       "      <td>0.239437</td>\n",
       "      <td>0.75</td>\n",
       "      <td>1.0</td>\n",
       "      <td>0.22</td>\n",
       "      <td>1.0</td>\n",
       "      <td>1.0</td>\n",
       "      <td>1.0</td>\n",
       "      <td>0.611765</td>\n",
       "      <td>...</td>\n",
       "      <td>0.158053</td>\n",
       "      <td>1.0</td>\n",
       "      <td>0.852459</td>\n",
       "      <td>0.0</td>\n",
       "      <td>1.0</td>\n",
       "      <td>0.0</td>\n",
       "      <td>1.0</td>\n",
       "      <td>0.835165</td>\n",
       "      <td>0.0</td>\n",
       "      <td>0.250000</td>\n",
       "    </tr>\n",
       "    <tr>\n",
       "      <th>3</th>\n",
       "      <td>1.0</td>\n",
       "      <td>0.090909</td>\n",
       "      <td>0.338028</td>\n",
       "      <td>0.50</td>\n",
       "      <td>1.0</td>\n",
       "      <td>0.40</td>\n",
       "      <td>0.0</td>\n",
       "      <td>1.0</td>\n",
       "      <td>1.0</td>\n",
       "      <td>0.141176</td>\n",
       "      <td>...</td>\n",
       "      <td>0.248704</td>\n",
       "      <td>0.0</td>\n",
       "      <td>0.967213</td>\n",
       "      <td>0.0</td>\n",
       "      <td>1.0</td>\n",
       "      <td>1.0</td>\n",
       "      <td>1.0</td>\n",
       "      <td>0.912088</td>\n",
       "      <td>0.0</td>\n",
       "      <td>0.347222</td>\n",
       "    </tr>\n",
       "    <tr>\n",
       "      <th>4</th>\n",
       "      <td>1.0</td>\n",
       "      <td>0.090909</td>\n",
       "      <td>0.507042</td>\n",
       "      <td>0.50</td>\n",
       "      <td>1.0</td>\n",
       "      <td>0.12</td>\n",
       "      <td>1.0</td>\n",
       "      <td>1.0</td>\n",
       "      <td>1.0</td>\n",
       "      <td>0.164706</td>\n",
       "      <td>...</td>\n",
       "      <td>0.257652</td>\n",
       "      <td>0.0</td>\n",
       "      <td>1.000000</td>\n",
       "      <td>0.0</td>\n",
       "      <td>1.0</td>\n",
       "      <td>1.0</td>\n",
       "      <td>1.0</td>\n",
       "      <td>0.681319</td>\n",
       "      <td>0.0</td>\n",
       "      <td>0.513889</td>\n",
       "    </tr>\n",
       "  </tbody>\n",
       "</table>\n",
       "<p>5 rows × 27 columns</p>\n",
       "</div>"
      ],
      "text/plain": [
       "   Referred a Friend  Number of Referrals  Tenure in Months  Offer  \\\n",
       "0                0.0             0.000000          0.000000   0.25   \n",
       "1                1.0             0.090909          0.098592   1.00   \n",
       "2                0.0             0.000000          0.239437   0.75   \n",
       "3                1.0             0.090909          0.338028   0.50   \n",
       "4                1.0             0.090909          0.507042   0.50   \n",
       "\n",
       "   Phone Service  Avg Monthly Long Distance Charges  Multiple Lines  \\\n",
       "0            0.0                               0.00             0.0   \n",
       "1            1.0                               0.98             1.0   \n",
       "2            1.0                               0.22             1.0   \n",
       "3            1.0                               0.40             0.0   \n",
       "4            1.0                               0.12             1.0   \n",
       "\n",
       "   Internet Service  Internet Type  Avg Monthly GB Download  ...  \\\n",
       "0               1.0            0.5                 0.094118  ...   \n",
       "1               1.0            1.0                 0.200000  ...   \n",
       "2               1.0            1.0                 0.611765  ...   \n",
       "3               1.0            1.0                 0.141176  ...   \n",
       "4               1.0            1.0                 0.164706  ...   \n",
       "\n",
       "   Total Revenue  Gender       Age  Under 30  Senior Citizen  Married  \\\n",
       "0       0.003261     1.0  0.967213       0.0             1.0      0.0   \n",
       "1       0.083877     0.0  0.901639       0.0             1.0      1.0   \n",
       "2       0.158053     1.0  0.852459       0.0             1.0      0.0   \n",
       "3       0.248704     0.0  0.967213       0.0             1.0      1.0   \n",
       "4       0.257652     0.0  1.000000       0.0             1.0      1.0   \n",
       "\n",
       "   Churn Label  Churn Score  ContractPeriod  ContractTenureRatio  \n",
       "0          1.0     0.945055             0.0             0.013889  \n",
       "1          1.0     0.703297             0.0             0.111111  \n",
       "2          1.0     0.835165             0.0             0.250000  \n",
       "3          1.0     0.912088             0.0             0.347222  \n",
       "4          1.0     0.681319             0.0             0.513889  \n",
       "\n",
       "[5 rows x 27 columns]"
      ]
     },
     "execution_count": 3,
     "metadata": {},
     "output_type": "execute_result"
    }
   ],
   "source": [
    "# Scaling to Numerical features:\n",
    "\n",
    "from sklearn.preprocessing import MinMaxScaler\n",
    "\n",
    "# Initiating MinMaxScaler\n",
    "scaler = MinMaxScaler()\n",
    "\n",
    "numerical_columns = df.select_dtypes(include=[float, int]).columns\n",
    "df[numerical_columns] = scaler.fit_transform(df[numerical_columns])\n",
    "\n",
    "df.head()"
   ]
  },
  {
   "cell_type": "code",
   "execution_count": 4,
   "id": "c0fc0b0d",
   "metadata": {},
   "outputs": [],
   "source": [
    "X = df.drop('Churn Label', axis=1)\n",
    "y = df['Churn Label']"
   ]
  },
  {
   "cell_type": "code",
   "execution_count": 5,
   "id": "25d584e2",
   "metadata": {},
   "outputs": [],
   "source": [
    "from sklearn.model_selection import train_test_split\n",
    "X_train, X_test, y_train, y_test = train_test_split(X, y, test_size=0.2, random_state=42)"
   ]
  },
  {
   "cell_type": "code",
   "execution_count": 6,
   "id": "2eeb74fe",
   "metadata": {},
   "outputs": [
    {
     "data": {
      "text/html": [
       "<style>#sk-container-id-1 {\n",
       "  /* Definition of color scheme common for light and dark mode */\n",
       "  --sklearn-color-text: black;\n",
       "  --sklearn-color-line: gray;\n",
       "  /* Definition of color scheme for unfitted estimators */\n",
       "  --sklearn-color-unfitted-level-0: #fff5e6;\n",
       "  --sklearn-color-unfitted-level-1: #f6e4d2;\n",
       "  --sklearn-color-unfitted-level-2: #ffe0b3;\n",
       "  --sklearn-color-unfitted-level-3: chocolate;\n",
       "  /* Definition of color scheme for fitted estimators */\n",
       "  --sklearn-color-fitted-level-0: #f0f8ff;\n",
       "  --sklearn-color-fitted-level-1: #d4ebff;\n",
       "  --sklearn-color-fitted-level-2: #b3dbfd;\n",
       "  --sklearn-color-fitted-level-3: cornflowerblue;\n",
       "\n",
       "  /* Specific color for light theme */\n",
       "  --sklearn-color-text-on-default-background: var(--sg-text-color, var(--theme-code-foreground, var(--jp-content-font-color1, black)));\n",
       "  --sklearn-color-background: var(--sg-background-color, var(--theme-background, var(--jp-layout-color0, white)));\n",
       "  --sklearn-color-border-box: var(--sg-text-color, var(--theme-code-foreground, var(--jp-content-font-color1, black)));\n",
       "  --sklearn-color-icon: #696969;\n",
       "\n",
       "  @media (prefers-color-scheme: dark) {\n",
       "    /* Redefinition of color scheme for dark theme */\n",
       "    --sklearn-color-text-on-default-background: var(--sg-text-color, var(--theme-code-foreground, var(--jp-content-font-color1, white)));\n",
       "    --sklearn-color-background: var(--sg-background-color, var(--theme-background, var(--jp-layout-color0, #111)));\n",
       "    --sklearn-color-border-box: var(--sg-text-color, var(--theme-code-foreground, var(--jp-content-font-color1, white)));\n",
       "    --sklearn-color-icon: #878787;\n",
       "  }\n",
       "}\n",
       "\n",
       "#sk-container-id-1 {\n",
       "  color: var(--sklearn-color-text);\n",
       "}\n",
       "\n",
       "#sk-container-id-1 pre {\n",
       "  padding: 0;\n",
       "}\n",
       "\n",
       "#sk-container-id-1 input.sk-hidden--visually {\n",
       "  border: 0;\n",
       "  clip: rect(1px 1px 1px 1px);\n",
       "  clip: rect(1px, 1px, 1px, 1px);\n",
       "  height: 1px;\n",
       "  margin: -1px;\n",
       "  overflow: hidden;\n",
       "  padding: 0;\n",
       "  position: absolute;\n",
       "  width: 1px;\n",
       "}\n",
       "\n",
       "#sk-container-id-1 div.sk-dashed-wrapped {\n",
       "  border: 1px dashed var(--sklearn-color-line);\n",
       "  margin: 0 0.4em 0.5em 0.4em;\n",
       "  box-sizing: border-box;\n",
       "  padding-bottom: 0.4em;\n",
       "  background-color: var(--sklearn-color-background);\n",
       "}\n",
       "\n",
       "#sk-container-id-1 div.sk-container {\n",
       "  /* jupyter's `normalize.less` sets `[hidden] { display: none; }`\n",
       "     but bootstrap.min.css set `[hidden] { display: none !important; }`\n",
       "     so we also need the `!important` here to be able to override the\n",
       "     default hidden behavior on the sphinx rendered scikit-learn.org.\n",
       "     See: https://github.com/scikit-learn/scikit-learn/issues/21755 */\n",
       "  display: inline-block !important;\n",
       "  position: relative;\n",
       "}\n",
       "\n",
       "#sk-container-id-1 div.sk-text-repr-fallback {\n",
       "  display: none;\n",
       "}\n",
       "\n",
       "div.sk-parallel-item,\n",
       "div.sk-serial,\n",
       "div.sk-item {\n",
       "  /* draw centered vertical line to link estimators */\n",
       "  background-image: linear-gradient(var(--sklearn-color-text-on-default-background), var(--sklearn-color-text-on-default-background));\n",
       "  background-size: 2px 100%;\n",
       "  background-repeat: no-repeat;\n",
       "  background-position: center center;\n",
       "}\n",
       "\n",
       "/* Parallel-specific style estimator block */\n",
       "\n",
       "#sk-container-id-1 div.sk-parallel-item::after {\n",
       "  content: \"\";\n",
       "  width: 100%;\n",
       "  border-bottom: 2px solid var(--sklearn-color-text-on-default-background);\n",
       "  flex-grow: 1;\n",
       "}\n",
       "\n",
       "#sk-container-id-1 div.sk-parallel {\n",
       "  display: flex;\n",
       "  align-items: stretch;\n",
       "  justify-content: center;\n",
       "  background-color: var(--sklearn-color-background);\n",
       "  position: relative;\n",
       "}\n",
       "\n",
       "#sk-container-id-1 div.sk-parallel-item {\n",
       "  display: flex;\n",
       "  flex-direction: column;\n",
       "}\n",
       "\n",
       "#sk-container-id-1 div.sk-parallel-item:first-child::after {\n",
       "  align-self: flex-end;\n",
       "  width: 50%;\n",
       "}\n",
       "\n",
       "#sk-container-id-1 div.sk-parallel-item:last-child::after {\n",
       "  align-self: flex-start;\n",
       "  width: 50%;\n",
       "}\n",
       "\n",
       "#sk-container-id-1 div.sk-parallel-item:only-child::after {\n",
       "  width: 0;\n",
       "}\n",
       "\n",
       "/* Serial-specific style estimator block */\n",
       "\n",
       "#sk-container-id-1 div.sk-serial {\n",
       "  display: flex;\n",
       "  flex-direction: column;\n",
       "  align-items: center;\n",
       "  background-color: var(--sklearn-color-background);\n",
       "  padding-right: 1em;\n",
       "  padding-left: 1em;\n",
       "}\n",
       "\n",
       "\n",
       "/* Toggleable style: style used for estimator/Pipeline/ColumnTransformer box that is\n",
       "clickable and can be expanded/collapsed.\n",
       "- Pipeline and ColumnTransformer use this feature and define the default style\n",
       "- Estimators will overwrite some part of the style using the `sk-estimator` class\n",
       "*/\n",
       "\n",
       "/* Pipeline and ColumnTransformer style (default) */\n",
       "\n",
       "#sk-container-id-1 div.sk-toggleable {\n",
       "  /* Default theme specific background. It is overwritten whether we have a\n",
       "  specific estimator or a Pipeline/ColumnTransformer */\n",
       "  background-color: var(--sklearn-color-background);\n",
       "}\n",
       "\n",
       "/* Toggleable label */\n",
       "#sk-container-id-1 label.sk-toggleable__label {\n",
       "  cursor: pointer;\n",
       "  display: block;\n",
       "  width: 100%;\n",
       "  margin-bottom: 0;\n",
       "  padding: 0.5em;\n",
       "  box-sizing: border-box;\n",
       "  text-align: center;\n",
       "}\n",
       "\n",
       "#sk-container-id-1 label.sk-toggleable__label-arrow:before {\n",
       "  /* Arrow on the left of the label */\n",
       "  content: \"▸\";\n",
       "  float: left;\n",
       "  margin-right: 0.25em;\n",
       "  color: var(--sklearn-color-icon);\n",
       "}\n",
       "\n",
       "#sk-container-id-1 label.sk-toggleable__label-arrow:hover:before {\n",
       "  color: var(--sklearn-color-text);\n",
       "}\n",
       "\n",
       "/* Toggleable content - dropdown */\n",
       "\n",
       "#sk-container-id-1 div.sk-toggleable__content {\n",
       "  max-height: 0;\n",
       "  max-width: 0;\n",
       "  overflow: hidden;\n",
       "  text-align: left;\n",
       "  /* unfitted */\n",
       "  background-color: var(--sklearn-color-unfitted-level-0);\n",
       "}\n",
       "\n",
       "#sk-container-id-1 div.sk-toggleable__content.fitted {\n",
       "  /* fitted */\n",
       "  background-color: var(--sklearn-color-fitted-level-0);\n",
       "}\n",
       "\n",
       "#sk-container-id-1 div.sk-toggleable__content pre {\n",
       "  margin: 0.2em;\n",
       "  border-radius: 0.25em;\n",
       "  color: var(--sklearn-color-text);\n",
       "  /* unfitted */\n",
       "  background-color: var(--sklearn-color-unfitted-level-0);\n",
       "}\n",
       "\n",
       "#sk-container-id-1 div.sk-toggleable__content.fitted pre {\n",
       "  /* unfitted */\n",
       "  background-color: var(--sklearn-color-fitted-level-0);\n",
       "}\n",
       "\n",
       "#sk-container-id-1 input.sk-toggleable__control:checked~div.sk-toggleable__content {\n",
       "  /* Expand drop-down */\n",
       "  max-height: 200px;\n",
       "  max-width: 100%;\n",
       "  overflow: auto;\n",
       "}\n",
       "\n",
       "#sk-container-id-1 input.sk-toggleable__control:checked~label.sk-toggleable__label-arrow:before {\n",
       "  content: \"▾\";\n",
       "}\n",
       "\n",
       "/* Pipeline/ColumnTransformer-specific style */\n",
       "\n",
       "#sk-container-id-1 div.sk-label input.sk-toggleable__control:checked~label.sk-toggleable__label {\n",
       "  color: var(--sklearn-color-text);\n",
       "  background-color: var(--sklearn-color-unfitted-level-2);\n",
       "}\n",
       "\n",
       "#sk-container-id-1 div.sk-label.fitted input.sk-toggleable__control:checked~label.sk-toggleable__label {\n",
       "  background-color: var(--sklearn-color-fitted-level-2);\n",
       "}\n",
       "\n",
       "/* Estimator-specific style */\n",
       "\n",
       "/* Colorize estimator box */\n",
       "#sk-container-id-1 div.sk-estimator input.sk-toggleable__control:checked~label.sk-toggleable__label {\n",
       "  /* unfitted */\n",
       "  background-color: var(--sklearn-color-unfitted-level-2);\n",
       "}\n",
       "\n",
       "#sk-container-id-1 div.sk-estimator.fitted input.sk-toggleable__control:checked~label.sk-toggleable__label {\n",
       "  /* fitted */\n",
       "  background-color: var(--sklearn-color-fitted-level-2);\n",
       "}\n",
       "\n",
       "#sk-container-id-1 div.sk-label label.sk-toggleable__label,\n",
       "#sk-container-id-1 div.sk-label label {\n",
       "  /* The background is the default theme color */\n",
       "  color: var(--sklearn-color-text-on-default-background);\n",
       "}\n",
       "\n",
       "/* On hover, darken the color of the background */\n",
       "#sk-container-id-1 div.sk-label:hover label.sk-toggleable__label {\n",
       "  color: var(--sklearn-color-text);\n",
       "  background-color: var(--sklearn-color-unfitted-level-2);\n",
       "}\n",
       "\n",
       "/* Label box, darken color on hover, fitted */\n",
       "#sk-container-id-1 div.sk-label.fitted:hover label.sk-toggleable__label.fitted {\n",
       "  color: var(--sklearn-color-text);\n",
       "  background-color: var(--sklearn-color-fitted-level-2);\n",
       "}\n",
       "\n",
       "/* Estimator label */\n",
       "\n",
       "#sk-container-id-1 div.sk-label label {\n",
       "  font-family: monospace;\n",
       "  font-weight: bold;\n",
       "  display: inline-block;\n",
       "  line-height: 1.2em;\n",
       "}\n",
       "\n",
       "#sk-container-id-1 div.sk-label-container {\n",
       "  text-align: center;\n",
       "}\n",
       "\n",
       "/* Estimator-specific */\n",
       "#sk-container-id-1 div.sk-estimator {\n",
       "  font-family: monospace;\n",
       "  border: 1px dotted var(--sklearn-color-border-box);\n",
       "  border-radius: 0.25em;\n",
       "  box-sizing: border-box;\n",
       "  margin-bottom: 0.5em;\n",
       "  /* unfitted */\n",
       "  background-color: var(--sklearn-color-unfitted-level-0);\n",
       "}\n",
       "\n",
       "#sk-container-id-1 div.sk-estimator.fitted {\n",
       "  /* fitted */\n",
       "  background-color: var(--sklearn-color-fitted-level-0);\n",
       "}\n",
       "\n",
       "/* on hover */\n",
       "#sk-container-id-1 div.sk-estimator:hover {\n",
       "  /* unfitted */\n",
       "  background-color: var(--sklearn-color-unfitted-level-2);\n",
       "}\n",
       "\n",
       "#sk-container-id-1 div.sk-estimator.fitted:hover {\n",
       "  /* fitted */\n",
       "  background-color: var(--sklearn-color-fitted-level-2);\n",
       "}\n",
       "\n",
       "/* Specification for estimator info (e.g. \"i\" and \"?\") */\n",
       "\n",
       "/* Common style for \"i\" and \"?\" */\n",
       "\n",
       ".sk-estimator-doc-link,\n",
       "a:link.sk-estimator-doc-link,\n",
       "a:visited.sk-estimator-doc-link {\n",
       "  float: right;\n",
       "  font-size: smaller;\n",
       "  line-height: 1em;\n",
       "  font-family: monospace;\n",
       "  background-color: var(--sklearn-color-background);\n",
       "  border-radius: 1em;\n",
       "  height: 1em;\n",
       "  width: 1em;\n",
       "  text-decoration: none !important;\n",
       "  margin-left: 1ex;\n",
       "  /* unfitted */\n",
       "  border: var(--sklearn-color-unfitted-level-1) 1pt solid;\n",
       "  color: var(--sklearn-color-unfitted-level-1);\n",
       "}\n",
       "\n",
       ".sk-estimator-doc-link.fitted,\n",
       "a:link.sk-estimator-doc-link.fitted,\n",
       "a:visited.sk-estimator-doc-link.fitted {\n",
       "  /* fitted */\n",
       "  border: var(--sklearn-color-fitted-level-1) 1pt solid;\n",
       "  color: var(--sklearn-color-fitted-level-1);\n",
       "}\n",
       "\n",
       "/* On hover */\n",
       "div.sk-estimator:hover .sk-estimator-doc-link:hover,\n",
       ".sk-estimator-doc-link:hover,\n",
       "div.sk-label-container:hover .sk-estimator-doc-link:hover,\n",
       ".sk-estimator-doc-link:hover {\n",
       "  /* unfitted */\n",
       "  background-color: var(--sklearn-color-unfitted-level-3);\n",
       "  color: var(--sklearn-color-background);\n",
       "  text-decoration: none;\n",
       "}\n",
       "\n",
       "div.sk-estimator.fitted:hover .sk-estimator-doc-link.fitted:hover,\n",
       ".sk-estimator-doc-link.fitted:hover,\n",
       "div.sk-label-container:hover .sk-estimator-doc-link.fitted:hover,\n",
       ".sk-estimator-doc-link.fitted:hover {\n",
       "  /* fitted */\n",
       "  background-color: var(--sklearn-color-fitted-level-3);\n",
       "  color: var(--sklearn-color-background);\n",
       "  text-decoration: none;\n",
       "}\n",
       "\n",
       "/* Span, style for the box shown on hovering the info icon */\n",
       ".sk-estimator-doc-link span {\n",
       "  display: none;\n",
       "  z-index: 9999;\n",
       "  position: relative;\n",
       "  font-weight: normal;\n",
       "  right: .2ex;\n",
       "  padding: .5ex;\n",
       "  margin: .5ex;\n",
       "  width: min-content;\n",
       "  min-width: 20ex;\n",
       "  max-width: 50ex;\n",
       "  color: var(--sklearn-color-text);\n",
       "  box-shadow: 2pt 2pt 4pt #999;\n",
       "  /* unfitted */\n",
       "  background: var(--sklearn-color-unfitted-level-0);\n",
       "  border: .5pt solid var(--sklearn-color-unfitted-level-3);\n",
       "}\n",
       "\n",
       ".sk-estimator-doc-link.fitted span {\n",
       "  /* fitted */\n",
       "  background: var(--sklearn-color-fitted-level-0);\n",
       "  border: var(--sklearn-color-fitted-level-3);\n",
       "}\n",
       "\n",
       ".sk-estimator-doc-link:hover span {\n",
       "  display: block;\n",
       "}\n",
       "\n",
       "/* \"?\"-specific style due to the `<a>` HTML tag */\n",
       "\n",
       "#sk-container-id-1 a.estimator_doc_link {\n",
       "  float: right;\n",
       "  font-size: 1rem;\n",
       "  line-height: 1em;\n",
       "  font-family: monospace;\n",
       "  background-color: var(--sklearn-color-background);\n",
       "  border-radius: 1rem;\n",
       "  height: 1rem;\n",
       "  width: 1rem;\n",
       "  text-decoration: none;\n",
       "  /* unfitted */\n",
       "  color: var(--sklearn-color-unfitted-level-1);\n",
       "  border: var(--sklearn-color-unfitted-level-1) 1pt solid;\n",
       "}\n",
       "\n",
       "#sk-container-id-1 a.estimator_doc_link.fitted {\n",
       "  /* fitted */\n",
       "  border: var(--sklearn-color-fitted-level-1) 1pt solid;\n",
       "  color: var(--sklearn-color-fitted-level-1);\n",
       "}\n",
       "\n",
       "/* On hover */\n",
       "#sk-container-id-1 a.estimator_doc_link:hover {\n",
       "  /* unfitted */\n",
       "  background-color: var(--sklearn-color-unfitted-level-3);\n",
       "  color: var(--sklearn-color-background);\n",
       "  text-decoration: none;\n",
       "}\n",
       "\n",
       "#sk-container-id-1 a.estimator_doc_link.fitted:hover {\n",
       "  /* fitted */\n",
       "  background-color: var(--sklearn-color-fitted-level-3);\n",
       "}\n",
       "</style><div id=\"sk-container-id-1\" class=\"sk-top-container\"><div class=\"sk-text-repr-fallback\"><pre>RandomForestClassifier(random_state=42)</pre><b>In a Jupyter environment, please rerun this cell to show the HTML representation or trust the notebook. <br />On GitHub, the HTML representation is unable to render, please try loading this page with nbviewer.org.</b></div><div class=\"sk-container\" hidden><div class=\"sk-item\"><div class=\"sk-estimator fitted sk-toggleable\"><input class=\"sk-toggleable__control sk-hidden--visually\" id=\"sk-estimator-id-1\" type=\"checkbox\" checked><label for=\"sk-estimator-id-1\" class=\"sk-toggleable__label fitted sk-toggleable__label-arrow fitted\">&nbsp;&nbsp;RandomForestClassifier<a class=\"sk-estimator-doc-link fitted\" rel=\"noreferrer\" target=\"_blank\" href=\"https://scikit-learn.org/1.5/modules/generated/sklearn.ensemble.RandomForestClassifier.html\">?<span>Documentation for RandomForestClassifier</span></a><span class=\"sk-estimator-doc-link fitted\">i<span>Fitted</span></span></label><div class=\"sk-toggleable__content fitted\"><pre>RandomForestClassifier(random_state=42)</pre></div> </div></div></div></div>"
      ],
      "text/plain": [
       "RandomForestClassifier(random_state=42)"
      ]
     },
     "execution_count": 6,
     "metadata": {},
     "output_type": "execute_result"
    }
   ],
   "source": [
    "from sklearn.ensemble import RandomForestClassifier\n",
    "\n",
    "rf_model = RandomForestClassifier(n_estimators=100, random_state=42)\n",
    "rf_model.fit(X_train, y_train)\n"
   ]
  },
  {
   "cell_type": "code",
   "execution_count": 7,
   "id": "22bbdd03",
   "metadata": {},
   "outputs": [
    {
     "name": "stdout",
     "output_type": "stream",
     "text": [
      "Accuracy: 0.9403832505322924\n",
      "Classification Report:\n",
      "               precision    recall  f1-score   support\n",
      "\n",
      "         0.0       0.95      0.97      0.96      1009\n",
      "         1.0       0.92      0.87      0.89       400\n",
      "\n",
      "    accuracy                           0.94      1409\n",
      "   macro avg       0.93      0.92      0.93      1409\n",
      "weighted avg       0.94      0.94      0.94      1409\n",
      "\n"
     ]
    }
   ],
   "source": [
    "from sklearn.metrics import accuracy_score, classification_report, confusion_matrix\n",
    "\n",
    "y_pred = rf_model.predict(X_test)\n",
    "print(\"Accuracy:\", accuracy_score(y_test, y_pred))\n",
    "print(\"Classification Report:\\n\", classification_report(y_test, y_pred))\n"
   ]
  },
  {
   "cell_type": "code",
   "execution_count": 8,
   "id": "85aa4d81",
   "metadata": {},
   "outputs": [
    {
     "name": "stdout",
     "output_type": "stream",
     "text": [
      "Feature Importances: [0.00469554 0.04086106 0.04424161 0.00817911 0.00103373 0.02214598\n",
      " 0.00429791 0.00832747 0.00853092 0.03402254 0.05363747 0.01302428\n",
      " 0.04766749 0.03483815 0.00375087 0.00666692 0.03042534 0.04119792\n",
      " 0.00511475 0.04092263 0.00312538 0.01096569 0.00530187 0.44188538\n",
      " 0.05310371 0.03203632]\n"
     ]
    }
   ],
   "source": [
    "feature_importances = rf_model.feature_importances_\n",
    "print(\"Feature Importances:\", feature_importances)\n"
   ]
  },
  {
   "cell_type": "code",
   "execution_count": 10,
   "id": "bc7543e0",
   "metadata": {},
   "outputs": [
    {
     "name": "stdout",
     "output_type": "stream",
     "text": [
      "Model saved successfully.\n"
     ]
    }
   ],
   "source": [
    "import joblib\n",
    "\n",
    "# Save the model to a file\n",
    "joblib.dump(rf_model, 'random_forest_model.pkl')\n",
    "print(\"Model saved successfully.\")\n"
   ]
  },
  {
   "cell_type": "code",
   "execution_count": 11,
   "id": "e5587cb8",
   "metadata": {},
   "outputs": [
    {
     "name": "stdout",
     "output_type": "stream",
     "text": [
      "Model saved successfully at: C:\\Users\\user\\random_forest_model.pkl\n"
     ]
    }
   ],
   "source": [
    "import joblib\n",
    "import os\n",
    "\n",
    "# Save the model to a file\n",
    "filename = 'random_forest_model.pkl'\n",
    "joblib.dump(rf_model, filename)\n",
    "\n",
    "# Get the absolute path of the saved model\n",
    "file_path = os.path.abspath(filename)\n",
    "\n",
    "print(f\"Model saved successfully at: {file_path}\")"
   ]
  },
  {
   "cell_type": "code",
   "execution_count": 12,
   "id": "9918f93e",
   "metadata": {},
   "outputs": [
    {
     "name": "stdout",
     "output_type": "stream",
     "text": [
      "Requirement already satisfied: ipywidgets in c:\\users\\user\\anaconda3\\lib\\site-packages (8.0.4)\n",
      "Requirement already satisfied: ipykernel>=4.5.1 in c:\\users\\user\\anaconda3\\lib\\site-packages (from ipywidgets) (6.25.0)\n",
      "Requirement already satisfied: ipython>=6.1.0 in c:\\users\\user\\anaconda3\\lib\\site-packages (from ipywidgets) (8.15.0)\n",
      "Requirement already satisfied: traitlets>=4.3.1 in c:\\users\\user\\anaconda3\\lib\\site-packages (from ipywidgets) (5.7.1)\n",
      "Requirement already satisfied: widgetsnbextension~=4.0 in c:\\users\\user\\anaconda3\\lib\\site-packages (from ipywidgets) (4.0.5)\n",
      "Requirement already satisfied: jupyterlab-widgets~=3.0 in c:\\users\\user\\anaconda3\\lib\\site-packages (from ipywidgets) (3.0.5)\n",
      "Requirement already satisfied: comm>=0.1.1 in c:\\users\\user\\anaconda3\\lib\\site-packages (from ipykernel>=4.5.1->ipywidgets) (0.1.2)\n",
      "Requirement already satisfied: debugpy>=1.6.5 in c:\\users\\user\\anaconda3\\lib\\site-packages (from ipykernel>=4.5.1->ipywidgets) (1.6.7)\n",
      "Requirement already satisfied: jupyter-client>=6.1.12 in c:\\users\\user\\anaconda3\\lib\\site-packages (from ipykernel>=4.5.1->ipywidgets) (7.4.9)\n",
      "Requirement already satisfied: jupyter-core!=5.0.*,>=4.12 in c:\\users\\user\\anaconda3\\lib\\site-packages (from ipykernel>=4.5.1->ipywidgets) (5.3.0)\n",
      "Requirement already satisfied: matplotlib-inline>=0.1 in c:\\users\\user\\anaconda3\\lib\\site-packages (from ipykernel>=4.5.1->ipywidgets) (0.1.6)\n",
      "Requirement already satisfied: nest-asyncio in c:\\users\\user\\anaconda3\\lib\\site-packages (from ipykernel>=4.5.1->ipywidgets) (1.5.6)\n",
      "Requirement already satisfied: packaging in c:\\users\\user\\anaconda3\\lib\\site-packages (from ipykernel>=4.5.1->ipywidgets) (23.1)\n",
      "Requirement already satisfied: psutil in c:\\users\\user\\anaconda3\\lib\\site-packages (from ipykernel>=4.5.1->ipywidgets) (5.9.0)\n",
      "Requirement already satisfied: pyzmq>=20 in c:\\users\\user\\anaconda3\\lib\\site-packages (from ipykernel>=4.5.1->ipywidgets) (23.2.0)\n",
      "Requirement already satisfied: tornado>=6.1 in c:\\users\\user\\anaconda3\\lib\\site-packages (from ipykernel>=4.5.1->ipywidgets) (6.3.2)\n",
      "Requirement already satisfied: backcall in c:\\users\\user\\anaconda3\\lib\\site-packages (from ipython>=6.1.0->ipywidgets) (0.2.0)\n",
      "Requirement already satisfied: decorator in c:\\users\\user\\anaconda3\\lib\\site-packages (from ipython>=6.1.0->ipywidgets) (5.1.1)\n",
      "Requirement already satisfied: jedi>=0.16 in c:\\users\\user\\anaconda3\\lib\\site-packages (from ipython>=6.1.0->ipywidgets) (0.18.1)\n",
      "Requirement already satisfied: pickleshare in c:\\users\\user\\anaconda3\\lib\\site-packages (from ipython>=6.1.0->ipywidgets) (0.7.5)\n",
      "Requirement already satisfied: prompt-toolkit!=3.0.37,<3.1.0,>=3.0.30 in c:\\users\\user\\anaconda3\\lib\\site-packages (from ipython>=6.1.0->ipywidgets) (3.0.36)\n",
      "Requirement already satisfied: pygments>=2.4.0 in c:\\users\\user\\anaconda3\\lib\\site-packages (from ipython>=6.1.0->ipywidgets) (2.15.1)\n",
      "Requirement already satisfied: stack-data in c:\\users\\user\\anaconda3\\lib\\site-packages (from ipython>=6.1.0->ipywidgets) (0.2.0)\n",
      "Requirement already satisfied: colorama in c:\\users\\user\\anaconda3\\lib\\site-packages (from ipython>=6.1.0->ipywidgets) (0.4.6)\n",
      "Requirement already satisfied: parso<0.9.0,>=0.8.0 in c:\\users\\user\\anaconda3\\lib\\site-packages (from jedi>=0.16->ipython>=6.1.0->ipywidgets) (0.8.3)\n",
      "Requirement already satisfied: entrypoints in c:\\users\\user\\anaconda3\\lib\\site-packages (from jupyter-client>=6.1.12->ipykernel>=4.5.1->ipywidgets) (0.4)\n",
      "Requirement already satisfied: python-dateutil>=2.8.2 in c:\\users\\user\\anaconda3\\lib\\site-packages (from jupyter-client>=6.1.12->ipykernel>=4.5.1->ipywidgets) (2.8.2)\n",
      "Requirement already satisfied: platformdirs>=2.5 in c:\\users\\user\\anaconda3\\lib\\site-packages (from jupyter-core!=5.0.*,>=4.12->ipykernel>=4.5.1->ipywidgets) (3.10.0)\n",
      "Requirement already satisfied: pywin32>=300 in c:\\users\\user\\anaconda3\\lib\\site-packages (from jupyter-core!=5.0.*,>=4.12->ipykernel>=4.5.1->ipywidgets) (305.1)\n",
      "Requirement already satisfied: wcwidth in c:\\users\\user\\anaconda3\\lib\\site-packages (from prompt-toolkit!=3.0.37,<3.1.0,>=3.0.30->ipython>=6.1.0->ipywidgets) (0.2.5)\n",
      "Requirement already satisfied: executing in c:\\users\\user\\anaconda3\\lib\\site-packages (from stack-data->ipython>=6.1.0->ipywidgets) (0.8.3)\n",
      "Requirement already satisfied: asttokens in c:\\users\\user\\anaconda3\\lib\\site-packages (from stack-data->ipython>=6.1.0->ipywidgets) (2.0.5)\n",
      "Requirement already satisfied: pure-eval in c:\\users\\user\\anaconda3\\lib\\site-packages (from stack-data->ipython>=6.1.0->ipywidgets) (0.2.2)\n",
      "Requirement already satisfied: six>=1.5 in c:\\users\\user\\anaconda3\\lib\\site-packages (from python-dateutil>=2.8.2->jupyter-client>=6.1.12->ipykernel>=4.5.1->ipywidgets) (1.16.0)\n"
     ]
    }
   ],
   "source": [
    "! pip install ipywidgets"
   ]
  },
  {
   "cell_type": "code",
   "execution_count": 13,
   "id": "5ae7ef98",
   "metadata": {},
   "outputs": [
    {
     "data": {
      "application/vnd.jupyter.widget-view+json": {
       "model_id": "f0346e9bf5014db485c7b52e74925e79",
       "version_major": 2,
       "version_minor": 0
      },
      "text/plain": [
       "Dropdown(description='Phone Service:', options=((1, 1), (0, 0)), value=1)"
      ]
     },
     "metadata": {},
     "output_type": "display_data"
    },
    {
     "data": {
      "application/vnd.jupyter.widget-view+json": {
       "model_id": "8a080b64ab4c44098264cfb24f24031d",
       "version_major": 2,
       "version_minor": 0
      },
      "text/plain": [
       "IntText(value=24, description='Tenure (Months):')"
      ]
     },
     "metadata": {},
     "output_type": "display_data"
    },
    {
     "data": {
      "application/vnd.jupyter.widget-view+json": {
       "model_id": "6b8edc0acf234dd18255c4f8f548ac6e",
       "version_major": 2,
       "version_minor": 0
      },
      "text/plain": [
       "Dropdown(description='Contract:', options=(('Month-to-month', 0), ('One year', 1), ('Two year', 2)), value=0)"
      ]
     },
     "metadata": {},
     "output_type": "display_data"
    },
    {
     "data": {
      "application/vnd.jupyter.widget-view+json": {
       "model_id": "069df0680a8841768a6637e561106340",
       "version_major": 2,
       "version_minor": 0
      },
      "text/plain": [
       "IntText(value=35, description='Age:')"
      ]
     },
     "metadata": {},
     "output_type": "display_data"
    },
    {
     "data": {
      "application/vnd.jupyter.widget-view+json": {
       "model_id": "f3d053cdcf07499b9d43c578f436cc98",
       "version_major": 2,
       "version_minor": 0
      },
      "text/plain": [
       "Button(description='Predict Churn', style=ButtonStyle())"
      ]
     },
     "metadata": {},
     "output_type": "display_data"
    },
    {
     "data": {
      "application/vnd.jupyter.widget-view+json": {
       "model_id": "ea421fd7e9aa45029f4cb8dc75a426c5",
       "version_major": 2,
       "version_minor": 0
      },
      "text/plain": [
       "Output()"
      ]
     },
     "metadata": {},
     "output_type": "display_data"
    },
    {
     "ename": "ValueError",
     "evalue": "X has 4 features, but RandomForestClassifier is expecting 26 features as input.",
     "output_type": "error",
     "traceback": [
      "\u001b[1;31m---------------------------------------------------------------------------\u001b[0m",
      "\u001b[1;31mValueError\u001b[0m                                Traceback (most recent call last)",
      "Cell \u001b[1;32mIn[13], line 46\u001b[0m, in \u001b[0;36mmake_prediction\u001b[1;34m(b)\u001b[0m\n\u001b[0;32m     43\u001b[0m input_features \u001b[38;5;241m=\u001b[39m np\u001b[38;5;241m.\u001b[39marray([[phone_service, tenure, contract, age]])\n\u001b[0;32m     45\u001b[0m \u001b[38;5;66;03m# Make the prediction\u001b[39;00m\n\u001b[1;32m---> 46\u001b[0m prediction \u001b[38;5;241m=\u001b[39m rf_model\u001b[38;5;241m.\u001b[39mpredict(input_features)\n\u001b[0;32m     48\u001b[0m \u001b[38;5;66;03m# Display the result\u001b[39;00m\n\u001b[0;32m     49\u001b[0m \u001b[38;5;28;01mwith\u001b[39;00m output:\n",
      "File \u001b[1;32m~\\anaconda3\\Lib\\site-packages\\sklearn\\ensemble\\_forest.py:904\u001b[0m, in \u001b[0;36mForestClassifier.predict\u001b[1;34m(self, X)\u001b[0m\n\u001b[0;32m    883\u001b[0m \u001b[38;5;28;01mdef\u001b[39;00m \u001b[38;5;21mpredict\u001b[39m(\u001b[38;5;28mself\u001b[39m, X):\n\u001b[0;32m    884\u001b[0m \u001b[38;5;250m    \u001b[39m\u001b[38;5;124;03m\"\"\"\u001b[39;00m\n\u001b[0;32m    885\u001b[0m \u001b[38;5;124;03m    Predict class for X.\u001b[39;00m\n\u001b[0;32m    886\u001b[0m \n\u001b[1;32m   (...)\u001b[0m\n\u001b[0;32m    902\u001b[0m \u001b[38;5;124;03m        The predicted classes.\u001b[39;00m\n\u001b[0;32m    903\u001b[0m \u001b[38;5;124;03m    \"\"\"\u001b[39;00m\n\u001b[1;32m--> 904\u001b[0m     proba \u001b[38;5;241m=\u001b[39m \u001b[38;5;28mself\u001b[39m\u001b[38;5;241m.\u001b[39mpredict_proba(X)\n\u001b[0;32m    906\u001b[0m     \u001b[38;5;28;01mif\u001b[39;00m \u001b[38;5;28mself\u001b[39m\u001b[38;5;241m.\u001b[39mn_outputs_ \u001b[38;5;241m==\u001b[39m \u001b[38;5;241m1\u001b[39m:\n\u001b[0;32m    907\u001b[0m         \u001b[38;5;28;01mreturn\u001b[39;00m \u001b[38;5;28mself\u001b[39m\u001b[38;5;241m.\u001b[39mclasses_\u001b[38;5;241m.\u001b[39mtake(np\u001b[38;5;241m.\u001b[39margmax(proba, axis\u001b[38;5;241m=\u001b[39m\u001b[38;5;241m1\u001b[39m), axis\u001b[38;5;241m=\u001b[39m\u001b[38;5;241m0\u001b[39m)\n",
      "File \u001b[1;32m~\\anaconda3\\Lib\\site-packages\\sklearn\\ensemble\\_forest.py:946\u001b[0m, in \u001b[0;36mForestClassifier.predict_proba\u001b[1;34m(self, X)\u001b[0m\n\u001b[0;32m    944\u001b[0m check_is_fitted(\u001b[38;5;28mself\u001b[39m)\n\u001b[0;32m    945\u001b[0m \u001b[38;5;66;03m# Check data\u001b[39;00m\n\u001b[1;32m--> 946\u001b[0m X \u001b[38;5;241m=\u001b[39m \u001b[38;5;28mself\u001b[39m\u001b[38;5;241m.\u001b[39m_validate_X_predict(X)\n\u001b[0;32m    948\u001b[0m \u001b[38;5;66;03m# Assign chunk of trees to jobs\u001b[39;00m\n\u001b[0;32m    949\u001b[0m n_jobs, _, _ \u001b[38;5;241m=\u001b[39m _partition_estimators(\u001b[38;5;28mself\u001b[39m\u001b[38;5;241m.\u001b[39mn_estimators, \u001b[38;5;28mself\u001b[39m\u001b[38;5;241m.\u001b[39mn_jobs)\n",
      "File \u001b[1;32m~\\anaconda3\\Lib\\site-packages\\sklearn\\ensemble\\_forest.py:641\u001b[0m, in \u001b[0;36mBaseForest._validate_X_predict\u001b[1;34m(self, X)\u001b[0m\n\u001b[0;32m    638\u001b[0m \u001b[38;5;28;01melse\u001b[39;00m:\n\u001b[0;32m    639\u001b[0m     force_all_finite \u001b[38;5;241m=\u001b[39m \u001b[38;5;28;01mTrue\u001b[39;00m\n\u001b[1;32m--> 641\u001b[0m X \u001b[38;5;241m=\u001b[39m \u001b[38;5;28mself\u001b[39m\u001b[38;5;241m.\u001b[39m_validate_data(\n\u001b[0;32m    642\u001b[0m     X,\n\u001b[0;32m    643\u001b[0m     dtype\u001b[38;5;241m=\u001b[39mDTYPE,\n\u001b[0;32m    644\u001b[0m     accept_sparse\u001b[38;5;241m=\u001b[39m\u001b[38;5;124m\"\u001b[39m\u001b[38;5;124mcsr\u001b[39m\u001b[38;5;124m\"\u001b[39m,\n\u001b[0;32m    645\u001b[0m     reset\u001b[38;5;241m=\u001b[39m\u001b[38;5;28;01mFalse\u001b[39;00m,\n\u001b[0;32m    646\u001b[0m     force_all_finite\u001b[38;5;241m=\u001b[39mforce_all_finite,\n\u001b[0;32m    647\u001b[0m )\n\u001b[0;32m    648\u001b[0m \u001b[38;5;28;01mif\u001b[39;00m issparse(X) \u001b[38;5;129;01mand\u001b[39;00m (X\u001b[38;5;241m.\u001b[39mindices\u001b[38;5;241m.\u001b[39mdtype \u001b[38;5;241m!=\u001b[39m np\u001b[38;5;241m.\u001b[39mintc \u001b[38;5;129;01mor\u001b[39;00m X\u001b[38;5;241m.\u001b[39mindptr\u001b[38;5;241m.\u001b[39mdtype \u001b[38;5;241m!=\u001b[39m np\u001b[38;5;241m.\u001b[39mintc):\n\u001b[0;32m    649\u001b[0m     \u001b[38;5;28;01mraise\u001b[39;00m \u001b[38;5;167;01mValueError\u001b[39;00m(\u001b[38;5;124m\"\u001b[39m\u001b[38;5;124mNo support for np.int64 index based sparse matrices\u001b[39m\u001b[38;5;124m\"\u001b[39m)\n",
      "File \u001b[1;32m~\\anaconda3\\Lib\\site-packages\\sklearn\\base.py:654\u001b[0m, in \u001b[0;36mBaseEstimator._validate_data\u001b[1;34m(self, X, y, reset, validate_separately, cast_to_ndarray, **check_params)\u001b[0m\n\u001b[0;32m    651\u001b[0m     out \u001b[38;5;241m=\u001b[39m X, y\n\u001b[0;32m    653\u001b[0m \u001b[38;5;28;01mif\u001b[39;00m \u001b[38;5;129;01mnot\u001b[39;00m no_val_X \u001b[38;5;129;01mand\u001b[39;00m check_params\u001b[38;5;241m.\u001b[39mget(\u001b[38;5;124m\"\u001b[39m\u001b[38;5;124mensure_2d\u001b[39m\u001b[38;5;124m\"\u001b[39m, \u001b[38;5;28;01mTrue\u001b[39;00m):\n\u001b[1;32m--> 654\u001b[0m     \u001b[38;5;28mself\u001b[39m\u001b[38;5;241m.\u001b[39m_check_n_features(X, reset\u001b[38;5;241m=\u001b[39mreset)\n\u001b[0;32m    656\u001b[0m \u001b[38;5;28;01mreturn\u001b[39;00m out\n",
      "File \u001b[1;32m~\\anaconda3\\Lib\\site-packages\\sklearn\\base.py:443\u001b[0m, in \u001b[0;36mBaseEstimator._check_n_features\u001b[1;34m(self, X, reset)\u001b[0m\n\u001b[0;32m    440\u001b[0m     \u001b[38;5;28;01mreturn\u001b[39;00m\n\u001b[0;32m    442\u001b[0m \u001b[38;5;28;01mif\u001b[39;00m n_features \u001b[38;5;241m!=\u001b[39m \u001b[38;5;28mself\u001b[39m\u001b[38;5;241m.\u001b[39mn_features_in_:\n\u001b[1;32m--> 443\u001b[0m     \u001b[38;5;28;01mraise\u001b[39;00m \u001b[38;5;167;01mValueError\u001b[39;00m(\n\u001b[0;32m    444\u001b[0m         \u001b[38;5;124mf\u001b[39m\u001b[38;5;124m\"\u001b[39m\u001b[38;5;124mX has \u001b[39m\u001b[38;5;132;01m{\u001b[39;00mn_features\u001b[38;5;132;01m}\u001b[39;00m\u001b[38;5;124m features, but \u001b[39m\u001b[38;5;132;01m{\u001b[39;00m\u001b[38;5;28mself\u001b[39m\u001b[38;5;241m.\u001b[39m\u001b[38;5;18m__class__\u001b[39m\u001b[38;5;241m.\u001b[39m\u001b[38;5;18m__name__\u001b[39m\u001b[38;5;132;01m}\u001b[39;00m\u001b[38;5;124m \u001b[39m\u001b[38;5;124m\"\u001b[39m\n\u001b[0;32m    445\u001b[0m         \u001b[38;5;124mf\u001b[39m\u001b[38;5;124m\"\u001b[39m\u001b[38;5;124mis expecting \u001b[39m\u001b[38;5;132;01m{\u001b[39;00m\u001b[38;5;28mself\u001b[39m\u001b[38;5;241m.\u001b[39mn_features_in_\u001b[38;5;132;01m}\u001b[39;00m\u001b[38;5;124m features as input.\u001b[39m\u001b[38;5;124m\"\u001b[39m\n\u001b[0;32m    446\u001b[0m     )\n",
      "\u001b[1;31mValueError\u001b[0m: X has 4 features, but RandomForestClassifier is expecting 26 features as input."
     ]
    }
   ],
   "source": [
    "import joblib\n",
    "import ipywidgets as widgets\n",
    "from IPython.display import display\n",
    "import numpy as np\n",
    "\n",
    "# Load the saved Random Forest model\n",
    "rf_model = joblib.load('random_forest_model.pkl')\n",
    "\n",
    "# Create input widgets for the user to input values\n",
    "phone_service_input = widgets.Dropdown(\n",
    "    options=[(1, 1), (0, 0)], # Assuming 1 for Yes and 0 for No\n",
    "    value=1,\n",
    "    description='Phone Service:'\n",
    ")\n",
    "\n",
    "tenure_input = widgets.IntText(\n",
    "    value=24,\n",
    "    description='Tenure (Months):'\n",
    ")\n",
    "\n",
    "contract_input = widgets.Dropdown(\n",
    "    options=[('Month-to-month', 0), ('One year', 1), ('Two year', 2)],\n",
    "    value=0,\n",
    "    description='Contract:'\n",
    ")\n",
    "\n",
    "age_input = widgets.IntText(\n",
    "    value=35,\n",
    "    description='Age:'\n",
    ")\n",
    "\n",
    "# Output widget for displaying the result\n",
    "output = widgets.Output()\n",
    "\n",
    "# Function to make a prediction\n",
    "def make_prediction(b):\n",
    "    phone_service = phone_service_input.value\n",
    "    tenure = tenure_input.value\n",
    "    contract = contract_input.value\n",
    "    age = age_input.value\n",
    "    \n",
    "    # Prepare the input data for prediction\n",
    "    input_features = np.array([[phone_service, tenure, contract, age]])\n",
    "    \n",
    "    # Make the prediction\n",
    "    prediction = rf_model.predict(input_features)\n",
    "    \n",
    "    # Display the result\n",
    "    with output:\n",
    "        output.clear_output()  # Clear the previous output\n",
    "        if prediction[0] == 1:\n",
    "            print(\"Prediction: The customer is likely to churn.\")\n",
    "        else:\n",
    "            print(\"Prediction: The customer is not likely to churn.\")\n",
    "\n",
    "# Button to trigger the prediction\n",
    "predict_button = widgets.Button(description=\"Predict Churn\")\n",
    "predict_button.on_click(make_prediction)\n",
    "\n",
    "# Display the input widgets and the button\n",
    "display(phone_service_input, tenure_input, contract_input, age_input, predict_button, output)\n"
   ]
  },
  {
   "cell_type": "code",
   "execution_count": 20,
   "id": "a3528986",
   "metadata": {},
   "outputs": [
    {
     "name": "stdout",
     "output_type": "stream",
     "text": [
      "Number of columns in X_test: 26\n"
     ]
    }
   ],
   "source": [
    "column_count = X_test.shape[1]  # or you can use len(X_test.columns)\n",
    "\n",
    "# Print the column count\n",
    "print(\"Number of columns in X_test:\", column_count)"
   ]
  },
  {
   "cell_type": "code",
   "execution_count": 24,
   "id": "a1032be5",
   "metadata": {},
   "outputs": [
    {
     "data": {
      "application/vnd.jupyter.widget-view+json": {
       "model_id": "65da41ac015746fd9ffe154dbb9c6e94",
       "version_major": 2,
       "version_minor": 0
      },
      "text/plain": [
       "Dropdown(description='Referred a Friend:', options=((1, 1), (0, 0)), value=1)"
      ]
     },
     "metadata": {},
     "output_type": "display_data"
    },
    {
     "data": {
      "application/vnd.jupyter.widget-view+json": {
       "model_id": "86e2d6ecc4b04173b5fe7f0347afa139",
       "version_major": 2,
       "version_minor": 0
      },
      "text/plain": [
       "IntSlider(value=0, continuous_update=False, description='Number of Referrals:', max=10)"
      ]
     },
     "metadata": {},
     "output_type": "display_data"
    },
    {
     "data": {
      "application/vnd.jupyter.widget-view+json": {
       "model_id": "02146f69cc0646c4b743f54ad13fcf64",
       "version_major": 2,
       "version_minor": 0
      },
      "text/plain": [
       "IntText(value=24, description='Tenure (Months):')"
      ]
     },
     "metadata": {},
     "output_type": "display_data"
    },
    {
     "data": {
      "application/vnd.jupyter.widget-view+json": {
       "model_id": "78e6b49b981c4c5bb74db7beb0239a51",
       "version_major": 2,
       "version_minor": 0
      },
      "text/plain": [
       "Dropdown(description='Offer:', options=('None', 'Discount', 'Bundle', 'Loyalty'), value='None')"
      ]
     },
     "metadata": {},
     "output_type": "display_data"
    },
    {
     "data": {
      "application/vnd.jupyter.widget-view+json": {
       "model_id": "263fef615b1542bfae605b32c285b453",
       "version_major": 2,
       "version_minor": 0
      },
      "text/plain": [
       "Dropdown(description='Phone Service:', options=((1, 1), (0, 0)), value=1)"
      ]
     },
     "metadata": {},
     "output_type": "display_data"
    },
    {
     "data": {
      "application/vnd.jupyter.widget-view+json": {
       "model_id": "4d805990debe468aa867e29730c0f5b1",
       "version_major": 2,
       "version_minor": 0
      },
      "text/plain": [
       "FloatText(value=0.0, description='Avg LD Charges:')"
      ]
     },
     "metadata": {},
     "output_type": "display_data"
    },
    {
     "data": {
      "application/vnd.jupyter.widget-view+json": {
       "model_id": "ec1ee8a008314b57984458f027ae4ce8",
       "version_major": 2,
       "version_minor": 0
      },
      "text/plain": [
       "Dropdown(description='Multiple Lines:', options=((1, 1), (0, 0)), value=1)"
      ]
     },
     "metadata": {},
     "output_type": "display_data"
    },
    {
     "data": {
      "application/vnd.jupyter.widget-view+json": {
       "model_id": "730770a28f1240d1a231a73d9cdb75a6",
       "version_major": 2,
       "version_minor": 0
      },
      "text/plain": [
       "Dropdown(description='Internet Service:', options=('DSL', 'Fiber optic', 'No'), value='DSL')"
      ]
     },
     "metadata": {},
     "output_type": "display_data"
    },
    {
     "data": {
      "application/vnd.jupyter.widget-view+json": {
       "model_id": "22dff48b5e2c4dd986e25c618cf50edd",
       "version_major": 2,
       "version_minor": 0
      },
      "text/plain": [
       "Dropdown(description='Internet Type:', index=1, options=('Cable', 'Fiber', 'DSL'), value='Fiber')"
      ]
     },
     "metadata": {},
     "output_type": "display_data"
    },
    {
     "data": {
      "application/vnd.jupyter.widget-view+json": {
       "model_id": "e5eca1aaca3f4e87b50dcdcca0108da3",
       "version_major": 2,
       "version_minor": 0
      },
      "text/plain": [
       "FloatText(value=0.0, description='Avg Monthly GB Download:')"
      ]
     },
     "metadata": {},
     "output_type": "display_data"
    },
    {
     "data": {
      "application/vnd.jupyter.widget-view+json": {
       "model_id": "5e2e86c4c7804720b1fc84f57d937d15",
       "version_major": 2,
       "version_minor": 0
      },
      "text/plain": [
       "Dropdown(description='Contract:', options=(('Month-to-month', 0), ('One year', 1), ('Two year', 2)), value=0)"
      ]
     },
     "metadata": {},
     "output_type": "display_data"
    },
    {
     "data": {
      "application/vnd.jupyter.widget-view+json": {
       "model_id": "c8d156a0cbfb4134b43c21087c113a00",
       "version_major": 2,
       "version_minor": 0
      },
      "text/plain": [
       "Dropdown(description='Payment Method:', index=2, options=('Bank transfer', 'Credit card', 'Electronic check', …"
      ]
     },
     "metadata": {},
     "output_type": "display_data"
    },
    {
     "data": {
      "application/vnd.jupyter.widget-view+json": {
       "model_id": "d94d9a6f4b384b9eb6d1ee37d7d772c6",
       "version_major": 2,
       "version_minor": 0
      },
      "text/plain": [
       "FloatText(value=0.0, description='Monthly Charge:')"
      ]
     },
     "metadata": {},
     "output_type": "display_data"
    },
    {
     "data": {
      "application/vnd.jupyter.widget-view+json": {
       "model_id": "f5df822d2cf74864967c574b77ac3b13",
       "version_major": 2,
       "version_minor": 0
      },
      "text/plain": [
       "FloatText(value=0.0, description='Total Charges:')"
      ]
     },
     "metadata": {},
     "output_type": "display_data"
    },
    {
     "data": {
      "application/vnd.jupyter.widget-view+json": {
       "model_id": "9b1440490d09436682b3faf6f409f2aa",
       "version_major": 2,
       "version_minor": 0
      },
      "text/plain": [
       "FloatText(value=0.0, description='Total Refunds:')"
      ]
     },
     "metadata": {},
     "output_type": "display_data"
    },
    {
     "data": {
      "application/vnd.jupyter.widget-view+json": {
       "model_id": "05cd449511da4fd196762ddd3b10a75b",
       "version_major": 2,
       "version_minor": 0
      },
      "text/plain": [
       "FloatText(value=0.0, description='Total Extra Data Charges:')"
      ]
     },
     "metadata": {},
     "output_type": "display_data"
    },
    {
     "data": {
      "application/vnd.jupyter.widget-view+json": {
       "model_id": "5f5161a0d1594d00ac841109b8de9c6e",
       "version_major": 2,
       "version_minor": 0
      },
      "text/plain": [
       "FloatText(value=0.0, description='Total LD Charges:')"
      ]
     },
     "metadata": {},
     "output_type": "display_data"
    },
    {
     "data": {
      "application/vnd.jupyter.widget-view+json": {
       "model_id": "b29ba0cecb824219a7c1ffd0aee83686",
       "version_major": 2,
       "version_minor": 0
      },
      "text/plain": [
       "FloatText(value=0.0, description='Total Revenue:')"
      ]
     },
     "metadata": {},
     "output_type": "display_data"
    },
    {
     "data": {
      "application/vnd.jupyter.widget-view+json": {
       "model_id": "1cd8fb5b661644b58a91b7e477c29997",
       "version_major": 2,
       "version_minor": 0
      },
      "text/plain": [
       "Dropdown(description='Gender:', options=('Male', 'Female'), value='Male')"
      ]
     },
     "metadata": {},
     "output_type": "display_data"
    },
    {
     "data": {
      "application/vnd.jupyter.widget-view+json": {
       "model_id": "20c63f84720c4ed283d7bf67242c4e4a",
       "version_major": 2,
       "version_minor": 0
      },
      "text/plain": [
       "IntText(value=35, description='Age:')"
      ]
     },
     "metadata": {},
     "output_type": "display_data"
    },
    {
     "data": {
      "application/vnd.jupyter.widget-view+json": {
       "model_id": "52110538a88f40e1a1c0aee7ae332d1c",
       "version_major": 2,
       "version_minor": 0
      },
      "text/plain": [
       "Dropdown(description='Under 30:', index=1, options=((1, 1), (0, 0)), value=0)"
      ]
     },
     "metadata": {},
     "output_type": "display_data"
    },
    {
     "data": {
      "application/vnd.jupyter.widget-view+json": {
       "model_id": "f4d7661656be4fd781de267265e93a07",
       "version_major": 2,
       "version_minor": 0
      },
      "text/plain": [
       "Dropdown(description='Senior Citizen:', index=1, options=((1, 1), (0, 0)), value=0)"
      ]
     },
     "metadata": {},
     "output_type": "display_data"
    },
    {
     "data": {
      "application/vnd.jupyter.widget-view+json": {
       "model_id": "cabbeba28ba34097b8a71ce0ea8ee8fa",
       "version_major": 2,
       "version_minor": 0
      },
      "text/plain": [
       "Dropdown(description='Married:', index=1, options=((1, 1), (0, 0)), value=0)"
      ]
     },
     "metadata": {},
     "output_type": "display_data"
    },
    {
     "data": {
      "application/vnd.jupyter.widget-view+json": {
       "model_id": "ea93f0dd9b3c4f128d3638bd87d56cd2",
       "version_major": 2,
       "version_minor": 0
      },
      "text/plain": [
       "FloatText(value=0.0, description='Churn Score:')"
      ]
     },
     "metadata": {},
     "output_type": "display_data"
    },
    {
     "data": {
      "application/vnd.jupyter.widget-view+json": {
       "model_id": "b970a600fbfb4b7b9dcec6bfb315fe40",
       "version_major": 2,
       "version_minor": 0
      },
      "text/plain": [
       "IntText(value=12, description='Contract Period:')"
      ]
     },
     "metadata": {},
     "output_type": "display_data"
    },
    {
     "data": {
      "application/vnd.jupyter.widget-view+json": {
       "model_id": "9f3c306900c24c6d84f3a04a7ff26838",
       "version_major": 2,
       "version_minor": 0
      },
      "text/plain": [
       "FloatText(value=0.5, description='Contract Tenure Ratio:')"
      ]
     },
     "metadata": {},
     "output_type": "display_data"
    },
    {
     "data": {
      "application/vnd.jupyter.widget-view+json": {
       "model_id": "c54a61b355074d26b3d910c2c820d729",
       "version_major": 2,
       "version_minor": 0
      },
      "text/plain": [
       "Button(description='Predict Churn', style=ButtonStyle())"
      ]
     },
     "metadata": {},
     "output_type": "display_data"
    },
    {
     "data": {
      "application/vnd.jupyter.widget-view+json": {
       "model_id": "6e0fea8493974ba0a1a01ce7f279e0a2",
       "version_major": 2,
       "version_minor": 0
      },
      "text/plain": [
       "Output()"
      ]
     },
     "metadata": {},
     "output_type": "display_data"
    }
   ],
   "source": [
    "import joblib\n",
    "import ipywidgets as widgets\n",
    "from IPython.display import display\n",
    "import numpy as np\n",
    "from sklearn.preprocessing import LabelEncoder\n",
    "\n",
    "# Load the saved Random Forest model\n",
    "rf_model = joblib.load('random_forest_model.pkl')\n",
    "\n",
    "# Define the label encoders for categorical variables\n",
    "label_encoders = {\n",
    "    'Offer': LabelEncoder(),\n",
    "    'Internet Service': LabelEncoder(),\n",
    "    'Internet Type': LabelEncoder(),\n",
    "    'Payment Method': LabelEncoder(),\n",
    "    'Gender': LabelEncoder()\n",
    "}\n",
    "\n",
    "# Example of fitting label encoders (use your actual categories here)\n",
    "label_encoders['Offer'].fit(['None', 'Discount', 'Bundle', 'Loyalty'])\n",
    "label_encoders['Internet Service'].fit(['DSL', 'Fiber optic', 'No'])\n",
    "label_encoders['Internet Type'].fit(['Cable', 'Fiber', 'DSL'])\n",
    "label_encoders['Payment Method'].fit(['Bank transfer', 'Credit card', 'Electronic check', 'Mailed check'])\n",
    "label_encoders['Gender'].fit(['Male', 'Female'])\n",
    "\n",
    "# Create input widgets for the user to input values\n",
    "referred_friend_input = widgets.Dropdown(\n",
    "    options=[(1, 1), (0, 0)], # 1 for Yes, 0 for No\n",
    "    value=1,\n",
    "    description='Referred a Friend:'\n",
    ")\n",
    "\n",
    "number_of_referrals_input = widgets.IntSlider(\n",
    "    value=0,\n",
    "    min=0,\n",
    "    max=10,\n",
    "    description='Number of Referrals:',\n",
    "    continuous_update=False\n",
    ")\n",
    "\n",
    "tenure_input = widgets.IntText(\n",
    "    value=24,\n",
    "    description='Tenure (Months):'\n",
    ")\n",
    "\n",
    "offer_input = widgets.Dropdown(\n",
    "    options=['None', 'Discount', 'Bundle', 'Loyalty'],\n",
    "    value='None',\n",
    "    description='Offer:'\n",
    ")\n",
    "\n",
    "phone_service_input = widgets.Dropdown(\n",
    "    options=[(1, 1), (0, 0)], # 1 for Yes, 0 for No\n",
    "    value=1,\n",
    "    description='Phone Service:'\n",
    ")\n",
    "\n",
    "avg_monthly_ld_charges_input = widgets.FloatText(\n",
    "    value=0.0,\n",
    "    description='Avg LD Charges:'\n",
    ")\n",
    "\n",
    "multiple_lines_input = widgets.Dropdown(\n",
    "    options=[(1, 1), (0, 0)], # 1 for Yes, 0 for No\n",
    "    value=1,\n",
    "    description='Multiple Lines:'\n",
    ")\n",
    "\n",
    "internet_service_input = widgets.Dropdown(\n",
    "    options=['DSL', 'Fiber optic', 'No'],\n",
    "    value='DSL',\n",
    "    description='Internet Service:'\n",
    ")\n",
    "\n",
    "internet_type_input = widgets.Dropdown(\n",
    "    options=['Cable', 'Fiber', 'DSL'],\n",
    "    value='Fiber',\n",
    "    description='Internet Type:'\n",
    ")\n",
    "\n",
    "avg_monthly_gb_download_input = widgets.FloatText(\n",
    "    value=0.0,\n",
    "    description='Avg Monthly GB Download:'\n",
    ")\n",
    "\n",
    "contract_input = widgets.Dropdown(\n",
    "    options=[('Month-to-month', 0), ('One year', 1), ('Two year', 2)],\n",
    "    value=0,\n",
    "    description='Contract:'\n",
    ")\n",
    "\n",
    "payment_method_input = widgets.Dropdown(\n",
    "    options=['Bank transfer', 'Credit card', 'Electronic check', 'Mailed check'],\n",
    "    value='Electronic check',\n",
    "    description='Payment Method:'\n",
    ")\n",
    "\n",
    "monthly_charge_input = widgets.FloatText(\n",
    "    value=0.0,\n",
    "    description='Monthly Charge:'\n",
    ")\n",
    "\n",
    "total_charges_input = widgets.FloatText(\n",
    "    value=0.0,\n",
    "    description='Total Charges:'\n",
    ")\n",
    "\n",
    "total_refunds_input = widgets.FloatText(\n",
    "    value=0.0,\n",
    "    description='Total Refunds:'\n",
    ")\n",
    "\n",
    "total_extra_data_charges_input = widgets.FloatText(\n",
    "    value=0.0,\n",
    "    description='Total Extra Data Charges:'\n",
    ")\n",
    "\n",
    "total_ld_charges_input = widgets.FloatText(\n",
    "    value=0.0,\n",
    "    description='Total LD Charges:'\n",
    ")\n",
    "\n",
    "total_revenue_input = widgets.FloatText(\n",
    "    value=0.0,\n",
    "    description='Total Revenue:'\n",
    ")\n",
    "\n",
    "gender_input = widgets.Dropdown(\n",
    "    options=['Male', 'Female'],\n",
    "    value='Male',\n",
    "    description='Gender:'\n",
    ")\n",
    "\n",
    "age_input = widgets.IntText(\n",
    "    value=35,\n",
    "    description='Age:'\n",
    ")\n",
    "\n",
    "under_30_input = widgets.Dropdown(\n",
    "    options=[(1, 1), (0, 0)], # 1 for Yes, 0 for No\n",
    "    value=0,\n",
    "    description='Under 30:'\n",
    ")\n",
    "\n",
    "senior_citizen_input = widgets.Dropdown(\n",
    "    options=[(1, 1), (0, 0)], # 1 for Yes, 0 for No\n",
    "    value=0,\n",
    "    description='Senior Citizen:'\n",
    ")\n",
    "\n",
    "married_input = widgets.Dropdown(\n",
    "    options=[(1, 1), (0, 0)], # 1 for Yes, 0 for No\n",
    "    value=0,\n",
    "    description='Married:'\n",
    ")\n",
    "\n",
    "churn_score_input = widgets.FloatText(\n",
    "    value=0.0,\n",
    "    description='Churn Score:'\n",
    ")\n",
    "\n",
    "contract_period_input = widgets.IntText(\n",
    "    value=12,\n",
    "    description='Contract Period:'\n",
    ")\n",
    "\n",
    "contract_tenure_ratio_input = widgets.FloatText(\n",
    "    value=0.5,\n",
    "    description='Contract Tenure Ratio:'\n",
    ")\n",
    "\n",
    "# Output widget for displaying the result\n",
    "output = widgets.Output()\n",
    "\n",
    "# Function to make a prediction\n",
    "def make_prediction(b):\n",
    "    # Gather all input data\n",
    "    input_features = np.array([[ \n",
    "        referred_friend_input.value,\n",
    "        number_of_referrals_input.value,\n",
    "        tenure_input.value,\n",
    "        label_encoders['Offer'].transform([offer_input.value])[0],  # Encode categorical\n",
    "        phone_service_input.value,\n",
    "        avg_monthly_ld_charges_input.value,\n",
    "        multiple_lines_input.value,\n",
    "        label_encoders['Internet Service'].transform([internet_service_input.value])[0],  # Encode categorical\n",
    "        label_encoders['Internet Type'].transform([internet_type_input.value])[0],  # Encode categorical\n",
    "        avg_monthly_gb_download_input.value,\n",
    "        contract_input.value,\n",
    "        label_encoders['Payment Method'].transform([payment_method_input.value])[0],  # Encode categorical\n",
    "        monthly_charge_input.value,\n",
    "        total_charges_input.value,\n",
    "        total_refunds_input.value,\n",
    "        total_extra_data_charges_input.value,\n",
    "        total_ld_charges_input.value,\n",
    "        total_revenue_input.value,\n",
    "        label_encoders['Gender'].transform([gender_input.value])[0],  # Encode categorical\n",
    "        age_input.value,\n",
    "        under_30_input.value,\n",
    "        senior_citizen_input.value,\n",
    "        married_input.value,\n",
    "        churn_score_input.value,\n",
    "        contract_period_input.value,\n",
    "        contract_tenure_ratio_input.value\n",
    "    ]])\n",
    "    \n",
    "    # Make the prediction\n",
    "    prediction = rf_model.predict(input_features)\n",
    "    \n",
    "    # Display the result\n",
    "    with output:\n",
    "        output.clear_output()  # Clear the previous output\n",
    "        if prediction[0] == 1:\n",
    "            print(\"Prediction: The customer is likely to churn.\")\n",
    "        else:\n",
    "            print(\"Prediction: The customer is not likely to churn.\")\n",
    "\n",
    "# Button to trigger the prediction\n",
    "predict_button = widgets.Button(description=\"Predict Churn\")\n",
    "predict_button.on_click(make_prediction)\n",
    "\n",
    "# Display the input widgets and the button\n",
    "display(\n",
    "    referred_friend_input, number_of_referrals_input, tenure_input, offer_input, \n",
    "    phone_service_input, avg_monthly_ld_charges_input, multiple_lines_input,\n",
    "    internet_service_input, internet_type_input, avg_monthly_gb_download_input,\n",
    "    contract_input, payment_method_input, monthly_charge_input, total_charges_input,\n",
    "    total_refunds_input, total_extra_data_charges_input, total_ld_charges_input,\n",
    "    total_revenue_input, gender_input, age_input, under_30_input,\n",
    "    senior_citizen_input, married_input, churn_score_input, contract_period_input,\n",
    "    contract_tenure_ratio_input, predict_button, output\n",
    ")\n"
   ]
  },
  {
   "cell_type": "code",
   "execution_count": 25,
   "id": "8016292c",
   "metadata": {},
   "outputs": [
    {
     "name": "stdout",
     "output_type": "stream",
     "text": [
      "Model and label encoders have been saved successfully.\n"
     ]
    }
   ],
   "source": [
    "import joblib\n",
    "import numpy as np\n",
    "from sklearn.ensemble import RandomForestClassifier\n",
    "from sklearn.preprocessing import LabelEncoder\n",
    "\n",
    "# Define your features and labels here (placeholder for the actual dataset)\n",
    "# X = ... (features)\n",
    "# y = ... (labels)\n",
    "\n",
    "# Assuming you have already trained your model somewhere else\n",
    "# rf_model = RandomForestClassifier()\n",
    "# rf_model.fit(X, y)\n",
    "\n",
    "# For demonstration, let's create a dummy Random Forest model\n",
    "rf_model = RandomForestClassifier()\n",
    "# Here you would typically load or train your model\n",
    "# rf_model.fit(X_train, y_train)  # Uncomment this line and use actual data\n",
    "\n",
    "# Save the trained model\n",
    "joblib.dump(rf_model, 'random_forest_model.pkl')\n",
    "\n",
    "# Define and fit label encoders for categorical variables\n",
    "label_encoders = {\n",
    "    'Offer': LabelEncoder(),\n",
    "    'Internet Service': LabelEncoder(),\n",
    "    'Internet Type': LabelEncoder(),\n",
    "    'Payment Method': LabelEncoder(),\n",
    "    'Gender': LabelEncoder()\n",
    "}\n",
    "\n",
    "# Example of fitting label encoders with actual categories\n",
    "label_encoders['Offer'].fit(['None', 'Discount', 'Bundle', 'Loyalty'])\n",
    "label_encoders['Internet Service'].fit(['DSL', 'Fiber optic', 'No'])\n",
    "label_encoders['Internet Type'].fit(['Cable', 'Fiber', 'DSL'])\n",
    "label_encoders['Payment Method'].fit(['Bank transfer', 'Credit card', 'Electronic check', 'Mailed check'])\n",
    "label_encoders['Gender'].fit(['Male', 'Female'])\n",
    "\n",
    "# Save the label encoders using joblib\n",
    "for name, encoder in label_encoders.items():\n",
    "    joblib.dump(encoder, f'{name}_label_encoder.pkl')\n",
    "\n",
    "print(\"Model and label encoders have been saved successfully.\")\n"
   ]
  },
  {
   "cell_type": "code",
   "execution_count": null,
   "id": "42ca50e9",
   "metadata": {},
   "outputs": [],
   "source": []
  }
 ],
 "metadata": {
  "kernelspec": {
   "display_name": "Python 3 (ipykernel)",
   "language": "python",
   "name": "python3"
  },
  "language_info": {
   "codemirror_mode": {
    "name": "ipython",
    "version": 3
   },
   "file_extension": ".py",
   "mimetype": "text/x-python",
   "name": "python",
   "nbconvert_exporter": "python",
   "pygments_lexer": "ipython3",
   "version": "3.11.5"
  }
 },
 "nbformat": 4,
 "nbformat_minor": 5
}
